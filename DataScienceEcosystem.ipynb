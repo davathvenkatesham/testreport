{
 "cells": [
  {
   "cell_type": "markdown",
   "id": "cbcde777-9573-454f-853d-9882d30b4304",
   "metadata": {},
   "source": [
    "# Data Science Tools and Ecosystem"
   ]
  },
  {
   "cell_type": "markdown",
   "id": "59e99cee-0edf-46d0-af00-3a68034eb720",
   "metadata": {},
   "source": [
    "# In this notebook, Data Science Tools and Ecosystem are summarized."
   ]
  },
  {
   "cell_type": "markdown",
   "id": "ef5d287b-9cf0-46ab-91c8-ba240f8af3e1",
   "metadata": {},
   "source": [
    "**Objectives:** 1)python 2)jullia 3)java 4)r"
   ]
  },
  {
   "cell_type": "markdown",
   "id": "63d4799d-27d0-43f5-9f6f-fd328756da96",
   "metadata": {},
   "source": [
    "# Some of the popular languages that Data Scientists use are:"
   ]
  },
  {
   "cell_type": "markdown",
   "id": "6d53286e-6116-45c7-be8a-7a8a4ac2b8e7",
   "metadata": {},
   "source": [
    "1.python 2.r 3.julia 4.scala"
   ]
  },
  {
   "cell_type": "markdown",
   "id": "48df8275-675d-4089-a6a7-11f091ebd3af",
   "metadata": {
    "tags": []
   },
   "source": [
    "# Some of the commonly used libraries used by Data Scientists include:"
   ]
  },
  {
   "cell_type": "markdown",
   "id": "35911087-1ae9-4caa-a693-cb486db4eae6",
   "metadata": {},
   "source": [
    "1.tensorflow 2.ggplot 3.apache spark 4.pandas 5.numpy"
   ]
  },
  {
   "cell_type": "markdown",
   "id": "9460699c-d4d6-45d5-be82-2f9bf69668fe",
   "metadata": {
    "tags": []
   },
   "source": [
    "data science tools|\n",
    "-------------------\n",
    "anaconda|\n",
    "jupyter lyte| \n",
    "jupyter notebook|"
   ]
  },
  {
   "cell_type": "markdown",
   "id": "687ecdf6-f0b1-4f6a-b620-18bc07f928cf",
   "metadata": {},
   "source": [
    "### Below are a few examples of evaluating arithmetic expressions in Python.\n"
   ]
  },
  {
   "cell_type": "code",
   "execution_count": 5,
   "id": "21d47b35-8984-4cb2-8d3a-88f0533705a1",
   "metadata": {
    "tags": []
   },
   "outputs": [
    {
     "data": {
      "text/plain": [
       "17"
      ]
     },
     "execution_count": 5,
     "metadata": {},
     "output_type": "execute_result"
    }
   ],
   "source": [
    "##This a simple arithmetic expression to mutiply then add integers\n",
    "(3*4)+5"
   ]
  },
  {
   "cell_type": "code",
   "execution_count": 6,
   "id": "b533fcbc-35e7-43b5-8139-71e2363c4cb1",
   "metadata": {
    "tags": []
   },
   "outputs": [
    {
     "name": "stdout",
     "output_type": "stream",
     "text": [
      "3.3333333333333335\n"
     ]
    }
   ],
   "source": [
    "##this will convert 200 minutes to hours by diving by 60\n",
    "print(200/60)"
   ]
  },
  {
   "cell_type": "markdown",
   "id": "574e6d20-477f-45d3-a1ae-a55bd5e8f442",
   "metadata": {},
   "source": [
    "## Author\n",
    "DAVATH VENKATESHAM"
   ]
  },
  {
   "cell_type": "code",
   "execution_count": null,
   "id": "1ec0e8b8-703d-4294-84ec-570f72030625",
   "metadata": {},
   "outputs": [],
   "source": []
  },
  {
   "cell_type": "code",
   "execution_count": null,
   "id": "68d007dc-152f-47c9-9c04-ae8e66cf8995",
   "metadata": {},
   "outputs": [],
   "source": []
  }
 ],
 "metadata": {
  "kernelspec": {
   "display_name": "Python 3 (ipykernel)",
   "language": "python",
   "name": "python3"
  },
  "language_info": {
   "codemirror_mode": {
    "name": "ipython",
    "version": 3
   },
   "file_extension": ".py",
   "mimetype": "text/x-python",
   "name": "python",
   "nbconvert_exporter": "python",
   "pygments_lexer": "ipython3",
   "version": "3.11.5"
  }
 },
 "nbformat": 4,
 "nbformat_minor": 5
}
